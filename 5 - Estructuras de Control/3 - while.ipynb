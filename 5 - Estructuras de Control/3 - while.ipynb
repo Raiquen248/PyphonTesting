{
 "cells": [
  {
   "cell_type": "code",
   "execution_count": 2,
   "metadata": {},
   "outputs": [
    {
     "name": "stdout",
     "output_type": "stream",
     "text": [
      "Estoy iterando, van =  1\n",
      "Estoy iterando, van =  2\n",
      "Estoy iterando, van =  3\n",
      "Estoy iterando, van =  4\n"
     ]
    }
   ],
   "source": [
    "iteracion = 0\n",
    "while iteracion <= 3:\n",
    "    iteracion += 1\n",
    "    print('Estoy iterando, van = ',iteracion)"
   ]
  },
  {
   "cell_type": "code",
   "execution_count": 5,
   "metadata": {},
   "outputs": [
    {
     "name": "stdout",
     "output_type": "stream",
     "text": [
      "Imprimo esto porque se termino y es el else\n"
     ]
    }
   ],
   "source": [
    "iteracion = 1\n",
    "while iteracion <= 0:\n",
    "    iteracion += 1\n",
    "    print('Estoy iterando, van = ',iteracion)\n",
    "else:\n",
    "    print('Imprimo esto porque se termino y es el else')"
   ]
  },
  {
   "cell_type": "code",
   "execution_count": 7,
   "metadata": {},
   "outputs": [
    {
     "name": "stdout",
     "output_type": "stream",
     "text": [
      "Imprimo esto porque se termino y es el else\n"
     ]
    }
   ],
   "source": [
    "iteracion = 1\n",
    "while iteracion <= 0:\n",
    "    iteracion += 1\n",
    "    print('Estoy iterando, van = ',iteracion)\n",
    "    break\n",
    "else:\n",
    "    print('Imprimo esto porque se termino y es el else')"
   ]
  },
  {
   "cell_type": "code",
   "execution_count": 12,
   "metadata": {},
   "outputs": [
    {
     "name": "stdout",
     "output_type": "stream",
     "text": [
      "Estoy iterando, van =  4\n",
      "Imprimo esto porque se termino y es el else\n"
     ]
    }
   ],
   "source": [
    "iteracion = 0\n",
    "while iteracion <= 10:\n",
    "    iteracion += 1\n",
    "    if (iteracion == 4):\n",
    "        print('Estoy iterando, van = ',iteracion)\n",
    "        \n",
    "else:\n",
    "    print('Imprimo esto porque se termino y es el else')"
   ]
  },
  {
   "cell_type": "code",
   "execution_count": 3,
   "metadata": {},
   "outputs": [
    {
     "name": "stdout",
     "output_type": "stream",
     "text": [
      "25 multiplicado por 0 es igual a  0\n",
      "25 multiplicado por 1 es igual a  25\n",
      "25 multiplicado por 2 es igual a  50\n",
      "25 multiplicado por 3 es igual a  75\n",
      "25 multiplicado por 4 es igual a  100\n",
      "25 multiplicado por 5 es igual a  125\n",
      "25 multiplicado por 6 es igual a  150\n",
      "25 multiplicado por 7 es igual a  175\n",
      "25 multiplicado por 8 es igual a  200\n",
      "25 multiplicado por 9 es igual a  225\n",
      "25 multiplicado por 10 es igual a  250\n"
     ]
    }
   ],
   "source": [
    "num = int(input(\"Ingrese un numero: \"))\n",
    "iteracion = 0\n",
    "multi = 0 \n",
    "\n",
    "while iteracion <=10:\n",
    "    multi = num * iteracion\n",
    "    print(num, \"multiplicado por\", iteracion, \"es igual a \", multi )\n",
    "    iteracion += 1"
   ]
  }
 ],
 "metadata": {
  "kernelspec": {
   "display_name": "Python 3",
   "language": "python",
   "name": "python3"
  },
  "language_info": {
   "codemirror_mode": {
    "name": "ipython",
    "version": 3
   },
   "file_extension": ".py",
   "mimetype": "text/x-python",
   "name": "python",
   "nbconvert_exporter": "python",
   "pygments_lexer": "ipython3",
   "version": "3.11.2"
  }
 },
 "nbformat": 4,
 "nbformat_minor": 2
}
