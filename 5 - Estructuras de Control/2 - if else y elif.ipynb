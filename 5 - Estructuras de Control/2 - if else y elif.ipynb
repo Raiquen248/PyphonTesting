{
 "cells": [
  {
   "cell_type": "code",
   "execution_count": 4,
   "metadata": {},
   "outputs": [],
   "source": [
    "alvaro = 13"
   ]
  },
  {
   "cell_type": "code",
   "execution_count": 5,
   "metadata": {},
   "outputs": [
    {
     "name": "stdout",
     "output_type": "stream",
     "text": [
      "el resto no es cero\n"
     ]
    }
   ],
   "source": [
    "if alvaro % 2 == 0:\n",
    "    print ('el resto es 0')\n",
    "else:\n",
    "    print('el resto no es cero')"
   ]
  },
  {
   "cell_type": "code",
   "execution_count": 13,
   "metadata": {},
   "outputs": [
    {
     "name": "stdout",
     "output_type": "stream",
     "text": [
      "Esto es algo cuando no da ningun resultado\n"
     ]
    }
   ],
   "source": [
    "frase = \"Alvaro\"\n",
    "if frase == \"Entrar\":\n",
    "    print('Bienvenid@s')\n",
    "elif frase == 'hola':\n",
    "    print('nos estan saludando')\n",
    "else:\n",
    "    print('Esto es algo cuando no da ningun resultado')"
   ]
  },
  {
   "cell_type": "code",
   "execution_count": 1,
   "metadata": {},
   "outputs": [
    {
     "name": "stdout",
     "output_type": "stream",
     "text": [
      "Aprobaste!\n"
     ]
    }
   ],
   "source": [
    "final = float(input('coloca la nota: '))\n",
    "if final >= 9:\n",
    "    print('sos un genio')\n",
    "elif final >= 7:\n",
    "    print('Aprobaste!')\n",
    "elif final == 6:\n",
    "    print('Te falto poco!')\n",
    "elif final <= 5:\n",
    "    print('Tuviste que haber estudiando en el curso de Python de Alvaro!')\n",
    "else:\n",
    "    print('No se donde estudias porque la nota que pusiste no la puedoi evaluar')"
   ]
  },
  {
   "cell_type": "code",
   "execution_count": 12,
   "metadata": {},
   "outputs": [
    {
     "name": "stdout",
     "output_type": "stream",
     "text": [
      "Es Vocal\n"
     ]
    }
   ],
   "source": [
    "textvocal = (input('coloca una Letra: '))\n",
    "if textvocal in \"aeiou\":\n",
    "    print('Es Vocal')\n",
    "else:\n",
    "    print('No es Vocal')"
   ]
  },
  {
   "cell_type": "code",
   "execution_count": 17,
   "metadata": {},
   "outputs": [
    {
     "name": "stdout",
     "output_type": "stream",
     "text": [
      "No riman porque tiene menos de 3 caracteres\n"
     ]
    }
   ],
   "source": [
    "DosPalabras1 = (input('Coloca una Palabra '))\n",
    "DosPalabras2 = (input('Coloca una Palabra que rime'))\n",
    "if len(DosPalabras1) < 3 or len(DosPalabras2) < 3:\n",
    "    print(\"No riman porque tiene menos de 3 caracteres\")\n",
    "elif DosPalabras1[-3:] == DosPalabras2[-3:]:\n",
    "    print(\"Si! Riman\")\n",
    "elif DosPalabras1[-2:] == DosPalabras2[-2:]:\n",
    "    print(\"Riman un poquito\")\n",
    "else:\n",
    "    print(\"Ni riman bobo\")"
   ]
  },
  {
   "cell_type": "code",
   "execution_count": 16,
   "metadata": {},
   "outputs": [
    {
     "name": "stdout",
     "output_type": "stream",
     "text": [
      "('hola', 'pola')\n"
     ]
    }
   ],
   "source": [
    "print(DosPalabras)"
   ]
  }
 ],
 "metadata": {
  "kernelspec": {
   "display_name": "Python 3",
   "language": "python",
   "name": "python3"
  },
  "language_info": {
   "codemirror_mode": {
    "name": "ipython",
    "version": 3
   },
   "file_extension": ".py",
   "mimetype": "text/x-python",
   "name": "python",
   "nbconvert_exporter": "python",
   "pygments_lexer": "ipython3",
   "version": "3.11.2"
  }
 },
 "nbformat": 4,
 "nbformat_minor": 2
}
