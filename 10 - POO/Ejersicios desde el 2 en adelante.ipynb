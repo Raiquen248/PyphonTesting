{
 "cells": [
  {
   "cell_type": "code",
   "execution_count": 6,
   "metadata": {},
   "outputs": [],
   "source": [
    "class Calculadora():\n",
    "    def __init__(self):\n",
    "        self.primero = int(input(\"Ingrese el primero:\"))\n",
    "        self.segundo = int(input(\"Ingrese el segundo:\"))\n",
    "    \n",
    "    def suma(self):\n",
    "        self.suma = self.primero + self.segundo\n",
    "        print(\"la suma es de \", self.suma)\n",
    "\n",
    "    def restar(self):\n",
    "        self.restar = self.primero - self.segundo\n",
    "        print(\"La resta es de :\", self.restar)\n",
    "    def multi(self):\n",
    "        self.multi=  self.primero * self.segundo\n",
    "        print(\"La multiplicacion es de :\", self.multi)\n",
    "\n",
    "    def dividir(self):\n",
    "         self.dividir=  self.primero / self.segundo\n",
    "         print(\"La multiplicacion es de :\", self.dividir)"
   ]
  },
  {
   "cell_type": "code",
   "execution_count": 7,
   "metadata": {},
   "outputs": [
    {
     "name": "stdout",
     "output_type": "stream",
     "text": [
      "la suma es de  15\n",
      "La resta es de : -5\n",
      "La multiplicacion es de : 50\n",
      "La multiplicacion es de : 0.5\n"
     ]
    }
   ],
   "source": [
    "calcular = Calculadora()\n",
    "calcular.suma()\n",
    "calcular.restar()\n",
    "calcular.multi()\n",
    "calcular.dividir()"
   ]
  },
  {
   "cell_type": "code",
   "execution_count": 1,
   "metadata": {},
   "outputs": [],
   "source": [
    "class Areas():\n",
    "    def __init__(self):\n",
    "        self.base = int(input(\"Ingrese la base o Perimetro:\"))\n",
    "        self.altura = int(input(\"Ingrese la altura o Apotema:\"))\n",
    "    \n",
    "    def cuadrado(self):\n",
    "        self.cuadrado = self.base * self.altura\n",
    "        print(\"El area del cuadrado es de  \", self.cuadrado)\n",
    "\n",
    "    def triangulo(self):\n",
    "        self.triangulo = 0.5 * self.base * self.altura\n",
    "        print(\"El area del triangulo es :\", self.triangulo)\n",
    "\n",
    "    def pentagono (self):\n",
    "        self.pentagono=  (self.base/5) /2 * self.altura\n",
    "        print(\"La multiplicacion es de :\", self.pentagono)"
   ]
  },
  {
   "cell_type": "code",
   "execution_count": 5,
   "metadata": {},
   "outputs": [
    {
     "name": "stdout",
     "output_type": "stream",
     "text": [
      "El area del cuadrado es de   10\n",
      "El area del triangulo es : 5.0\n",
      "La multiplicacion es de : 0.2\n"
     ]
    }
   ],
   "source": [
    "Areas1 = Areas()\n",
    "Areas1.cuadrado()\n",
    "Areas1.triangulo()\n",
    "Areas1.pentagono()"
   ]
  },
  {
   "cell_type": "code",
   "execution_count": 1,
   "metadata": {},
   "outputs": [],
   "source": [
    "class Fabrica:\n",
    "    def __init__(self, llantas, color, precio):\n",
    "        self.llantas = llantas\n",
    "        self.color = color\n",
    "        self.precio = precio\n",
    "    \n",
    "    def mostrar_llantas(self):\n",
    "        print(f\"Cantidad de llantas: {self.llantas}\")\n",
    "    \n",
    "    def mostrar_color(self):\n",
    "        print(f\"Color: {self.color}\")\n",
    "    \n",
    "    def mostrar_precio(self):\n",
    "        print(f\"Precio: {self.precio}\")\n",
    "\n",
    "class Moto(Fabrica):\n",
    "    pass\n",
    "    \n",
    "    \n",
    "class Carro(Fabrica):\n",
    "    pass\n",
    "        "
   ]
  },
  {
   "cell_type": "code",
   "execution_count": 3,
   "metadata": {},
   "outputs": [
    {
     "name": "stdout",
     "output_type": "stream",
     "text": [
      "Cantidad de llantas: Aleacion\n",
      "Color: roja\n",
      "Precio: 10.0\n",
      "Cantidad de llantas: 4 aleacion\n",
      "Color: negro\n",
      "Precio: 23.0\n"
     ]
    }
   ],
   "source": [
    "moto1 = Moto(\"Aleacion\", \"roja\", 10.000)\n",
    "moto1.mostrar_llantas()\n",
    "moto1.mostrar_color()\n",
    "moto1.mostrar_precio()\n",
    "\n",
    "auto1 = Carro(\"4 aleacion\", \"negro\", 23.000)\n",
    "auto1.mostrar_llantas()\n",
    "auto1.mostrar_color()\n",
    "auto1.mostrar_precio()"
   ]
  },
  {
   "cell_type": "code",
   "execution_count": 4,
   "metadata": {},
   "outputs": [],
   "source": [
    "class Marino:\n",
    "    def hablar(self):\n",
    "        print(\"Hola...\")\n",
    "\n",
    "class Pulto(Marino):\n",
    "    def hablar(self):\n",
    "        print(\"Soy un pulpo\")\n",
    "\n",
    "class Foca(Marino):\n",
    "    def __init__(self, mensaje):\n",
    "        self.mensaje = mensaje\n",
    "\n",
    "    def hablar(self):\n",
    "        print({self.mensaje})\n",
    "  \n",
    "\n"
   ]
  },
  {
   "cell_type": "code",
   "execution_count": 27,
   "metadata": {},
   "outputs": [],
   "source": [
    "class Universidad:\n",
    "    def __init__(self,Nombre):\n",
    "        self.Nombre = Nombre\n",
    " \n",
    "\n",
    "class Carrera:\n",
    "    def carrera(self,especialidad):\n",
    "        self.especialidad = especialidad\n",
    " \n",
    "\n",
    "class Estudiante(Universidad, Carrera):\n",
    "    def datos(self,nombre, edad):\n",
    "        self.nombre = nombre\n",
    "        self.edad = edad\n",
    "        print(\"Mi nombre es {}, tengo {}, mi especialidad es {}. Estudio en la universidad {}\".format(self.nombre,self.edad,self.especialidad,self.Nombre))"
   ]
  },
  {
   "cell_type": "code",
   "execution_count": 31,
   "metadata": {},
   "outputs": [
    {
     "name": "stdout",
     "output_type": "stream",
     "text": [
      "Mi nombre es Raiquen, tengo 33, mi especialidad es Testing. Estudio en la universidad Boston\n"
     ]
    }
   ],
   "source": [
    "Persona = Estudiante(\"Boston\")\n",
    "Persona.carrera(\"Testing\")\n",
    "Persona.datos(\"Raiquen\", 33)\n",
    "\n"
   ]
  },
  {
   "cell_type": "code",
   "execution_count": 1,
   "metadata": {},
   "outputs": [
    {
     "ename": "SyntaxError",
     "evalue": "invalid syntax. Perhaps you forgot a comma? (1403700133.py, line 1)",
     "output_type": "error",
     "traceback": [
      "\u001b[1;36m  Cell \u001b[1;32mIn[1], line 1\u001b[1;36m\u001b[0m\n\u001b[1;33m    for(let i = 0; i < document.getElementsByClassName('ContributionCalendar-day').length - 5; i++){\u001b[0m\n\u001b[1;37m        ^\u001b[0m\n\u001b[1;31mSyntaxError\u001b[0m\u001b[1;31m:\u001b[0m invalid syntax. Perhaps you forgot a comma?\n"
     ]
    }
   ],
   "source": [
    "for(let i = 0; i < document.getElementsByClassName('ContributionCalendar-day').length - 5; i++){\n",
    "  let aux = ((Math.floor(Math.random() * 10) % 3) + 2).toString();\n",
    "  document.getElementsByClassName('ContributionCalendar-day')[i].setAttribute(\"data-level\", aux)\n",
    "  //365\n",
    "}\n",
    "document.getElementsByClassName(\"f4 text-normal mb-2\")[1].innerText = '365 contributions in 2022'"
   ]
  }
 ],
 "metadata": {
  "kernelspec": {
   "display_name": "Python 3",
   "language": "python",
   "name": "python3"
  },
  "language_info": {
   "codemirror_mode": {
    "name": "ipython",
    "version": 3
   },
   "file_extension": ".py",
   "mimetype": "text/x-python",
   "name": "python",
   "nbconvert_exporter": "python",
   "pygments_lexer": "ipython3",
   "version": "3.11.2"
  }
 },
 "nbformat": 4,
 "nbformat_minor": 2
}
