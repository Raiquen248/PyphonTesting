{
 "cells": [
  {
   "cell_type": "code",
   "execution_count": 6,
   "metadata": {},
   "outputs": [],
   "source": [
    "class Calculadora():\n",
    "    def __init__(self):\n",
    "        self.primero = int(input(\"Ingrese el primero:\"))\n",
    "        self.segundo = int(input(\"Ingrese el segundo:\"))\n",
    "    \n",
    "    def suma(self):\n",
    "        self.suma = self.primero + self.segundo\n",
    "        print(\"la suma es de \", self.suma)\n",
    "\n",
    "    def restar(self):\n",
    "        self.restar = self.primero - self.segundo\n",
    "        print(\"La resta es de :\", self.restar)\n",
    "    def multi(self):\n",
    "        self.multi=  self.primero * self.segundo\n",
    "        print(\"La multiplicacion es de :\", self.multi)\n",
    "\n",
    "    def dividir(self):\n",
    "         self.dividir=  self.primero / self.segundo\n",
    "         print(\"La multiplicacion es de :\", self.dividir)"
   ]
  },
  {
   "cell_type": "code",
   "execution_count": 7,
   "metadata": {},
   "outputs": [
    {
     "name": "stdout",
     "output_type": "stream",
     "text": [
      "la suma es de  15\n",
      "La resta es de : -5\n",
      "La multiplicacion es de : 50\n",
      "La multiplicacion es de : 0.5\n"
     ]
    }
   ],
   "source": [
    "calcular = Calculadora()\n",
    "calcular.suma()\n",
    "calcular.restar()\n",
    "calcular.multi()\n",
    "calcular.dividir()"
   ]
  }
 ],
 "metadata": {
  "kernelspec": {
   "display_name": "Python 3",
   "language": "python",
   "name": "python3"
  },
  "language_info": {
   "codemirror_mode": {
    "name": "ipython",
    "version": 3
   },
   "file_extension": ".py",
   "mimetype": "text/x-python",
   "name": "python",
   "nbconvert_exporter": "python",
   "pygments_lexer": "ipython3",
   "version": "3.11.2"
  }
 },
 "nbformat": 4,
 "nbformat_minor": 2
}
