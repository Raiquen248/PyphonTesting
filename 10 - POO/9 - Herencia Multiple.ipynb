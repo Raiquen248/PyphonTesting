{
 "cells": [
  {
   "cell_type": "code",
   "execution_count": 9,
   "metadata": {},
   "outputs": [],
   "source": [
    "class Primera:\n",
    "    def __init__(self):\n",
    "        print(\"Yo soy la primer clase\")\n",
    "    \n",
    "    def primera(self):\n",
    "        print(\"Este es el metodo heredado de Primera\")\n",
    "    \n",
    "class Segunda:\n",
    "    def __init__(self):\n",
    "        print(\"Yo soy la Segunda clase\")\n",
    "    def segunda(self):\n",
    "        print(\"Este es el metodo heredado de Segunda\")\n",
    "class Tercera(Segunda, Primera):\n",
    "   def tercera(self):\n",
    "        print(\"Este es el metodo heredado de Tercera\")"
   ]
  },
  {
   "cell_type": "code",
   "execution_count": 10,
   "metadata": {},
   "outputs": [
    {
     "name": "stdout",
     "output_type": "stream",
     "text": [
      "Yo soy la Segunda clase\n"
     ]
    }
   ],
   "source": [
    "herencia_multiple = Tercera()"
   ]
  },
  {
   "cell_type": "code",
   "execution_count": 12,
   "metadata": {},
   "outputs": [
    {
     "name": "stdout",
     "output_type": "stream",
     "text": [
      "Este es el metodo heredado de Primera\n"
     ]
    }
   ],
   "source": [
    "herencia_multiple.primera()"
   ]
  },
  {
   "cell_type": "code",
   "execution_count": 13,
   "metadata": {},
   "outputs": [
    {
     "name": "stdout",
     "output_type": "stream",
     "text": [
      "Este es el metodo heredado de Segunda\n"
     ]
    }
   ],
   "source": [
    "herencia_multiple.segunda()"
   ]
  },
  {
   "cell_type": "code",
   "execution_count": 14,
   "metadata": {},
   "outputs": [
    {
     "name": "stdout",
     "output_type": "stream",
     "text": [
      "Este es el metodo heredado de Tercera\n"
     ]
    }
   ],
   "source": [
    "herencia_multiple.tercera()"
   ]
  },
  {
   "attachments": {},
   "cell_type": "markdown",
   "metadata": {},
   "source": [
    "##Ejercicio UNO##"
   ]
  },
  {
   "cell_type": "code",
   "execution_count": 18,
   "metadata": {},
   "outputs": [],
   "source": [
    "class Alumno():\n",
    "    def datos(self,nombre,nota):\n",
    "        self.nombre = nombre\n",
    "        self.nota = nota\n",
    "               \n",
    "    def imprimir(self):\n",
    "        print(\"Nombre:\", self.nombre)\n",
    "        print(\"Nota:\", self.nota)\n",
    "\n",
    "    def resultado(self):\n",
    "        if self.nota < 5 :\n",
    "            print(\"Desaprobaste soquete\")\n",
    "        else:\n",
    "            print(\"Aprobaste papaaa\")"
   ]
  },
  {
   "cell_type": "code",
   "execution_count": 21,
   "metadata": {},
   "outputs": [
    {
     "name": "stdout",
     "output_type": "stream",
     "text": [
      "Nombre: Raiquen\n",
      "Nota: 7\n",
      "Aprobaste papaaa\n",
      "Nombre: Videografo\n",
      "Nota: 3\n",
      "Desaprobaste soquete\n"
     ]
    }
   ],
   "source": [
    "alumno1= Alumno()\n",
    "alumno1.datos(\"Raiquen\",7)\n",
    "alumno2= Alumno()\n",
    "alumno2.datos(\"Videografo\", 3)\n",
    "alumno1.imprimir()\n",
    "alumno1.resultado()\n",
    "alumno2.imprimir()\n",
    "alumno2.resultado()"
   ]
  },
  {
   "cell_type": "code",
   "execution_count": 22,
   "metadata": {},
   "outputs": [],
   "source": [
    "class Potencia():\n",
    "    def pow(self, x, n):\n",
    "       \n",
    "        if n == 0:\n",
    "            return 1\n",
    "        elif n < 0:\n",
    "            x = 1 / x\n",
    "            n = -n\n",
    "        res = 1\n",
    "        while n > 0:\n",
    "            if n % 2 == 1:\n",
    "                res *= x\n",
    "            x *= x\n",
    "            n //= 2\n",
    "        return res"
   ]
  },
  {
   "cell_type": "code",
   "execution_count": 25,
   "metadata": {},
   "outputs": [
    {
     "data": {
      "text/plain": [
       "157464"
      ]
     },
     "execution_count": 25,
     "metadata": {},
     "output_type": "execute_result"
    }
   ],
   "source": [
    "nuevodato = Potencia()\n",
    "nuevodato.pow(54,3)"
   ]
  }
 ],
 "metadata": {
  "kernelspec": {
   "display_name": "Python 3",
   "language": "python",
   "name": "python3"
  },
  "language_info": {
   "codemirror_mode": {
    "name": "ipython",
    "version": 3
   },
   "file_extension": ".py",
   "mimetype": "text/x-python",
   "name": "python",
   "nbconvert_exporter": "python",
   "pygments_lexer": "ipython3",
   "version": "3.11.2"
  }
 },
 "nbformat": 4,
 "nbformat_minor": 2
}
