{
 "cells": [
  {
   "cell_type": "code",
   "execution_count": 1,
   "metadata": {},
   "outputs": [],
   "source": [
    "ingreso = input(\"Ingresa tu clase: \")"
   ]
  },
  {
   "cell_type": "code",
   "execution_count": 2,
   "metadata": {},
   "outputs": [
    {
     "data": {
      "text/plain": [
       "'hola'"
      ]
     },
     "execution_count": 2,
     "metadata": {},
     "output_type": "execute_result"
    }
   ],
   "source": [
    "ingreso"
   ]
  },
  {
   "cell_type": "code",
   "execution_count": 3,
   "metadata": {},
   "outputs": [],
   "source": [
    "listas = []"
   ]
  },
  {
   "cell_type": "code",
   "execution_count": 5,
   "metadata": {},
   "outputs": [
    {
     "name": "stdout",
     "output_type": "stream",
     "text": [
      "Ingresa ya mismo 5 numeros\n"
     ]
    }
   ],
   "source": [
    "print(\"Ingresa ya mismo 5 numeros\")\n",
    "for i in range(5):\n",
    "    listas.append(input(\"Ingresa un numero: \"))"
   ]
  },
  {
   "cell_type": "code",
   "execution_count": 6,
   "metadata": {},
   "outputs": [
    {
     "data": {
      "text/plain": [
       "['1', '2', '3', '4', '5']"
      ]
     },
     "execution_count": 6,
     "metadata": {},
     "output_type": "execute_result"
    }
   ],
   "source": [
    "listas"
   ]
  },
  {
   "cell_type": "code",
   "execution_count": 14,
   "metadata": {},
   "outputs": [
    {
     "name": "stdout",
     "output_type": "stream",
     "text": [
      "Este programa resuelve ecuaciones de segundo grado utilizando la fórmula general\n",
      "Las soluciones son: 1.0 y 0.6666666666666666\n"
     ]
    }
   ],
   "source": [
    "import math\n",
    "\n",
    "print(\"Este programa resuelve ecuaciones de segundo grado utilizando la fórmula general\")\n",
    "\n",
    "a = float(input(\"Introduce el valor de a: \"))\n",
    "b = float(input(\"Introduce el valor de b: \"))\n",
    "c = float(input(\"Introduce el valor de c: \"))\n",
    "\n",
    "# Calculamos el discriminante\n",
    "discriminante = b**2 - 4*a*c\n",
    "\n",
    "# Si el discriminante es negativo, la ecuación no tiene soluciones reales\n",
    "if discriminante < 0:\n",
    "    print(\"La ecuación no tiene soluciones reales\")\n",
    "    \n",
    "# Si el discriminante es cero, la ecuación tiene una única solución\n",
    "elif discriminante == 0:\n",
    "    x = -b / (2*a)\n",
    "    print(f\"La solución es: {x}\")\n",
    "    \n",
    "# Si el discriminante es positivo, la ecuación tiene dos soluciones\n",
    "else:\n",
    "    x1 = (-b + math.sqrt(discriminante)) / (2*a)\n",
    "    x2 = (-b - math.sqrt(discriminante)) / (2*a)\n",
    "    print(f\"Las soluciones son: {x1} y {x2}\")"
   ]
  }
 ],
 "metadata": {
  "kernelspec": {
   "display_name": "Python 3",
   "language": "python",
   "name": "python3"
  },
  "language_info": {
   "codemirror_mode": {
    "name": "ipython",
    "version": 3
   },
   "file_extension": ".py",
   "mimetype": "text/x-python",
   "name": "python",
   "nbconvert_exporter": "python",
   "pygments_lexer": "ipython3",
   "version": "3.11.2"
  }
 },
 "nbformat": 4,
 "nbformat_minor": 2
}
