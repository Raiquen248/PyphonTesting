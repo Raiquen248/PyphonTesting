{
 "cells": [
  {
   "cell_type": "code",
   "execution_count": 3,
   "metadata": {},
   "outputs": [],
   "source": [
    "def argu(*tu):\n",
    "    for tus in tu:\n",
    "        print(tus)"
   ]
  },
  {
   "cell_type": "code",
   "execution_count": 4,
   "metadata": {},
   "outputs": [
    {
     "name": "stdout",
     "output_type": "stream",
     "text": [
      "alvaro\n",
      "chirou\n",
      "estudiantes\n",
      "10\n",
      "[1, 2, 3]\n"
     ]
    }
   ],
   "source": [
    "argu('alvaro','chirou','estudiantes', 10,[1,2,3])"
   ]
  },
  {
   "cell_type": "code",
   "execution_count": 16,
   "metadata": {},
   "outputs": [],
   "source": [
    "def nombre_diccionario(*tu,**lo):\n",
    "    b = 0\n",
    "    for tus in tu:\n",
    "        b+=tus\n",
    "    print(b)\n",
    "    for x in lo:\n",
    "        print(x, \" \",lo[x])"
   ]
  },
  {
   "cell_type": "code",
   "execution_count": 17,
   "metadata": {},
   "outputs": [
    {
     "name": "stdout",
     "output_type": "stream",
     "text": [
      "10\n",
      "alvaro   Chirou\n",
      "Estudiantes   Genios\n",
      "calificaciones   [7, 8, 9]\n"
     ]
    }
   ],
   "source": [
    "nombre_diccionario(1,2,3,4,alvaro='Chirou',Estudiantes='Genios',calificaciones=[7,8,9])"
   ]
  },
  {
   "cell_type": "code",
   "execution_count": 5,
   "metadata": {},
   "outputs": [
    {
     "data": {
      "text/plain": [
       "314.1592653589793"
      ]
     },
     "execution_count": 5,
     "metadata": {},
     "output_type": "execute_result"
    }
   ],
   "source": [
    "def cuadrado (a,b):\n",
    "    return a * b\n",
    "\n",
    "def redondel (radio):\n",
    "    import math\n",
    "    radio = math.pi * radio**2\n",
    "    return  radio\n",
    "\n",
    "redondel(10)\n",
    "\n"
   ]
  }
 ],
 "metadata": {
  "kernelspec": {
   "display_name": "Python 3",
   "language": "python",
   "name": "python3"
  },
  "language_info": {
   "codemirror_mode": {
    "name": "ipython",
    "version": 3
   },
   "file_extension": ".py",
   "mimetype": "text/x-python",
   "name": "python",
   "nbconvert_exporter": "python",
   "pygments_lexer": "ipython3",
   "version": "3.11.2"
  }
 },
 "nbformat": 4,
 "nbformat_minor": 2
}
