{
 "cells": [
  {
   "cell_type": "code",
   "execution_count": 1,
   "metadata": {},
   "outputs": [],
   "source": [
    "lista = [20, 50, \"Curso\", 'Python', 3.14]"
   ]
  },
  {
   "cell_type": "code",
   "execution_count": 2,
   "metadata": {},
   "outputs": [
    {
     "data": {
      "text/plain": [
       "[20, 50, 'Curso', 'Python', 3.14]"
      ]
     },
     "execution_count": 2,
     "metadata": {},
     "output_type": "execute_result"
    }
   ],
   "source": [
    "lista"
   ]
  },
  {
   "cell_type": "code",
   "execution_count": 5,
   "metadata": {},
   "outputs": [
    {
     "name": "stdout",
     "output_type": "stream",
     "text": [
      "['hola', 'perro', 'Curso', 'Python', 3.14]\n",
      "['asd', 'asd', 'Curso', 'Python', 3.14]\n"
     ]
    }
   ],
   "source": [
    "print(lista)\n",
    "\n",
    "nuevo_valor1 = input(\"Ingrese nuevo valor para el primer lugar:\")\n",
    "nuevo_valor2 = input(\"Ingrese nuevo valor para el segundo lugar:\")\n",
    "\n",
    "lista[0] = nuevo_valor1\n",
    "lista[1] = nuevo_valor2\n",
    "\n",
    "print(lista)"
   ]
  }
 ],
 "metadata": {
  "kernelspec": {
   "display_name": "Python 3",
   "language": "python",
   "name": "python3"
  },
  "language_info": {
   "codemirror_mode": {
    "name": "ipython",
    "version": 3
   },
   "file_extension": ".py",
   "mimetype": "text/x-python",
   "name": "python",
   "nbconvert_exporter": "python",
   "pygments_lexer": "ipython3",
   "version": "3.11.2"
  },
  "orig_nbformat": 4
 },
 "nbformat": 4,
 "nbformat_minor": 2
}
